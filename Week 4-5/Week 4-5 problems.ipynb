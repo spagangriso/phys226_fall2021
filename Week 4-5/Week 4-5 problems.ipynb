{
 "cells": [
  {
   "cell_type": "markdown",
   "metadata": {},
   "source": [
    "# Week 4-5 solutions"
   ]
  },
  {
   "cell_type": "markdown",
   "metadata": {},
   "source": [
    "## Question 1: Simulation for track reconstruction with silicon-detectors"
   ]
  },
  {
   "cell_type": "markdown",
   "metadata": {},
   "source": [
    "### Learning objectives\n",
    "In this question you will:\n",
    "\n",
    "- learn about making more realistic simple monte carlo simulations\n",
    "- learn how to emulate intrinsic resolution of multi-channel readout detectors\n",
    "- learn the basics of calculating the kinematic parameters of a charged particles reconstructed in a silicon-based tracker\n",
    "- learn how to calculate the radiation of materials and to take into account multiple scattering contributions\n"
   ]
  },
  {
   "cell_type": "markdown",
   "metadata": {},
   "source": [
    "Silicon microstrip and pixel detectors play a prominent role in many particle physics experiments. Their good spatial resolution, ability to distinguish nearby particles and radiation hardness make them attractive options. You have studied the position resolution of such detectors in a previous homework. Today, we will learn about how they are used to reconstruct particle trajectories and to identify the decay products of weakly decaying particles.\n",
    "\n",
    "Track reconstruction can be roughly divided in two main steps. First, a pattern recognition algorithm is used to associate a set of measurements with a single trajectory. Then, these measurements are fit to determine track parameters according to a model of the trajectory. This problem focuses on this last step, where track parameters are determined and for simplicity will only involve a single charged particle.\n",
    "\n",
    "We'll consider a detector composed of 5 planes (_layers_) of slicon pixel detectors (see e.g. [LHCb VELO detector](http://lhcb-public.web.cern.ch/en/detector/VELO-en.html) or [LDMX](https://confluence.slac.stanford.edu/display/MME/Light+Dark+Matter+Experiment?preview=/210534721/228306759/LDMX_summary.pdf) detector). For simplicity we'll treat the problem as 2D problem. The silicon detectors will measure one coordinate (r) and the other one (z) is given by their known initial position (assumed to be corresponding to the center of the silicon sensor). The nominal origin of particles sits at $(r,z)=(0,0)$; each layer is parallel to the $r$ axis; the first layer sits at a distance $r=D=5$ cm from the nominal origin and each subsequent layer is placed at a distance $L=3$ cm from the previous one. A schematic view is shown below and further details are given in the questions below. No magnetic field is present (a magnetic field parallel to the $z$ or $r$ direction won't change significantly the problems below, this is the case for e.g. the detectors mentioned above)."
   ]
  },
  {
   "cell_type": "markdown",
   "metadata": {},
   "source": [
    "![detector](detector.png)"
   ]
  },
  {
   "cell_type": "markdown",
   "metadata": {},
   "source": [
    "### 1a.  (20 points)"
   ]
  },
  {
   "cell_type": "markdown",
   "metadata": {
    "flags": [
     "problems",
     "solutions"
    ]
   },
   "source": [
    "Each layer can be thought as 1-D array of pixels with a width (along r) of $p=25\\mu$m and a thickness of $t=150\\mu m$ (see figure below). Depending on the angle $\\theta$ of the track, we expect a signal in one or more than one pixels (see figure below). Let's assume that there's no diffusion and the detector is not in any magnetic field; in this situation the electrons will drift along the electric field ($E$ in the figure, along the $z$ axis) inside the sensor straight to the electrode (situated at the top in the figure below) and the average amount of charge (i.e. energy released by ionization) recorded by each pixel will be proportional to the path length of the track in each pixel.\n",
    "\n",
    "The goal of this question is to determine the expected position resolution as a function of the angle $\\theta$ in the range $\\theta < 60^\\circ$. \n",
    "\n",
    "For this question, we'll assume each pixel can only record a 1 or 0 depending if the particle did or did not pass through any part of the pixel and produced enough ionization energy. You can assume that the particle needs to go through at least $37.5\\mu$m of silicon before leaving a signal above the minimum detectable threshold. \n",
    "\n",
    "Hint: this can be either be solved completely analytically or via a simple computational function\n",
    "\n",
    "Interesting-to-know: the 1 or 0 readout is actually a relatively common arrangement when there's a need to minimize the amount of data transferred out of the detector."
   ]
  },
  {
   "cell_type": "markdown",
   "metadata": {},
   "source": [
    "![pixels](pixels.png)"
   ]
  },
  {
   "cell_type": "markdown",
   "metadata": {},
   "source": [
    "#### <font color='red'>Solution:</font>"
   ]
  },
  {
   "cell_type": "markdown",
   "metadata": {
    "flags": [
     "solutions"
    ]
   },
   "source": []
  },
  {
   "cell_type": "markdown",
   "metadata": {},
   "source": [
    "### 1b.  (20 points)"
   ]
  },
  {
   "cell_type": "markdown",
   "metadata": {
    "flags": [
     "problems",
     "solutions"
    ]
   },
   "source": [
    "In reality, our particles will not always leave the same ionization energy. As we've studied, the amount of energy by released by ionization follows a Landau distribution with average given by the Bethe-Block formula. \n",
    "\n",
    "In this question we will slightly simplify this description and instead use a Poisson distribution to describe the pdf of the energy deposit (most notably it significantly underestimates the tails at high-energy loss, when compared to a Landau distribution). We also will assume all particles considered are minimum-ionizing particle (m.i.p.) and in this case we expect the average number of electrons produced by ionization to be about 80 per $\\mu$m. We can describe the number of electrons produced also using a Poisson distribution. Therefore you can use this number as the average of the Poisson distribution. \n",
    "\n",
    "Let's finally also assume that the minimum number of electrons we can detect is 3000 e^-. \n",
    "\n",
    "Create a function that computes the expected resolution given the angle $\\theta$ of the charged particle. Compare to the resolution calculated in the question 1a."
   ]
  },
  {
   "cell_type": "markdown",
   "metadata": {},
   "source": [
    "#### <font color='red'>Solution:</font>"
   ]
  },
  {
   "cell_type": "code",
   "execution_count": 10,
   "metadata": {
    "flags": [
     "solutions"
    ]
   },
   "outputs": [],
   "source": [
    "def meas_sigma(theta):\n",
    "    #write your code here\n",
    "    \n",
    "    #finish the function returning the expected resolution calculated in this function\n",
    "    return resolution"
   ]
  },
  {
   "cell_type": "markdown",
   "metadata": {},
   "source": [
    "### 1c. (20 points)"
   ]
  },
  {
   "cell_type": "markdown",
   "metadata": {
    "flags": [
     "problems",
     "solutions"
    ]
   },
   "source": [
    "In absence of magnetic fields and neglecting for now multiple-scattering effects, the charged particle trajectory will follow a straight line: \n",
    "\n",
    "$$\n",
    "r = r_0 + m\\cdot z\n",
    "$$\n",
    "\n",
    "We now want to start making a small simulation program that will allow us to estimate - ultimately - the resolution on the estimated parameter $r_0$ of the reconstructed trajectory, under various conditions.\n",
    "\n",
    "To start, create a function that takes as input the angle $\\theta$ and, assuming the particle originates at $(r,z)=(0,0)$, calculate the position of the intersection points at each layer (in the middle of the silicon sensor). As a suggestion, keep the distance D as a parameter since later on we'll want to change it.\n",
    "\n",
    "We then use this position to emulate a real \"measurement\". To do this, we simply add an offset in the $r$ direction, that is a random number that follows a Gaussian distribution with mean 0 and $\\sigma$ equal to the expected resolution - calculated using the function you wrote in 1b - for the given input angle $\\theta$:\n",
    "\n",
    "```\n",
    "measurements[i] = measurements[i] + ROOT.Math.Gaus(0, meas_sigma(theta))\n",
    "```\n",
    "\n",
    "We will assume that $z$ is known with much better accuracy and we know exactly its value.\n",
    "\n",
    "The function should return two lists. The first one will be the list of the measurements (r,z) of the intersections (remember, $r$ will have the random offset added to it), while the second list will correspond to the expected resolution for the corresponding intersection of the first list (only consider uncertainty in the $r$ direction), calculated with the function you wrote in 1b. You can also decide to just return three lists (one for $r$ coordinates, one for $z$ coordinates, one for $\\sigma(r)$ values), if this makes it easier for you later on."
   ]
  },
  {
   "cell_type": "markdown",
   "metadata": {},
   "source": [
    "#### <font color='red'>Solution:</font>"
   ]
  },
  {
   "cell_type": "code",
   "execution_count": 2,
   "metadata": {
    "flags": [
     "solutions"
    ]
   },
   "outputs": [],
   "source": [
    "def get_measurements(theta, D=5.0):\n",
    "    #write your code here\n",
    "    \n",
    "    # e.g. of measurements = [ [r_0, z_0], [r_1, z_1], ...] and uncertainties = [ sigma_r_0, sigma_r_1, ...]\n",
    "    return measurements, uncertainties"
   ]
  },
  {
   "cell_type": "markdown",
   "metadata": {},
   "source": [
    "### 1d. "
   ]
  },
  {
   "cell_type": "markdown",
   "metadata": {
    "flags": [
     "problems",
     "solutions"
    ]
   },
   "source": [
    "Let's now calculate how the so-called intrinsic resolution on the pixel detector position measurements translates to an uncertainty on the trajectory parameter $r_0$. \n",
    "\n",
    "The resolution on $r_0$ can be crucial for these experiments, since it allows to determine how likely is that the particle was really coming from the expected interaction point and not. The latter would be the case, for instance, if the particle is coming from the decay of a \"mother\" particle that travelled a little distance before decaying.\n",
    "\n",
    "To achieve this goal, for a given track with angle $\\theta$, we will:\n",
    "- generate the measurements (using the function in 1c)\n",
    "- fit the measurements and their uncertainties using the linear equation we expect $r = r_0 + m\\cdot z$.\n",
    "- retrieve the fitted value of $r_0$ and its uncertainty.\n",
    "\n",
    "Wihtout resetting the random seed (i.e. setting it only once at the beginning), repeat the above for at least 100 tracks with $\\theta = 30^\\circ$ (in each of them the random numbers will be different and therefore the positions will differ) and plot the distribution of $r_0$ (note that what you want to plot is reality is $r_0 - r_0^{true}$, but $r_0^{true} = 0 $ in this case) and its significance $r_0 / \\sigma(r_0)$, where $\\sigma(r_0)$ is the uncertainty on the estimated parameter $r_0$ returned by the fit. Fit both distributions with a Gaussian and print the value of the $\\sigma$ of these Gaussians. The former corresponds to the expected uncertainty on $r_0$, the latter is called a _pull_ plot and its \\sigma should come out compatible with 1.0, if the expected uncertainty are correctly propagated (can you see why?).\n",
    "\n",
    "Optionally, repeat the same excercise for various theta values and plot the expected $r_0$ resolution ($\\sigma$ of the fitted Gaussian to the $r_0$ distribution) as a function of $\\theta$.\n",
    "\n"
   ]
  },
  {
   "cell_type": "markdown",
   "metadata": {},
   "source": [
    "#### <font color='red'>Solution:</font>"
   ]
  },
  {
   "cell_type": "code",
   "execution_count": null,
   "metadata": {
    "flags": [
     "solutions"
    ]
   },
   "outputs": [],
   "source": []
  },
  {
   "cell_type": "markdown",
   "metadata": {},
   "source": [
    "### 1e.  (20 points)"
   ]
  },
  {
   "cell_type": "markdown",
   "metadata": {
    "flags": [
     "problems",
     "solutions"
    ]
   },
   "source": [
    "Each silicon detector layer is actually made of a carbon support structure, silicon, and an epoxy glue ($C_{18}H_{18}O_{3}$, density $\\rho=1 g/cm^3$). We'll neglect everything else. Each of the three components is weighed before assembly and their relative mass is respectively 50%, 40% and 10% of the total. Estimate the radiation length ($X_0$) corresponding to each layer. Estimate as well the thickness of each layer.\n",
    "\n",
    "The radiation lengths of a compound can be computed similarly to the case of mass stopping power dE/dx, where a weighted average of $1/X_0$, with weight given by the relative mass. This weighted average gives the resulting $1/X_0$ of the compound, i.e.\n",
    "$$\n",
    "\\frac{1}{X_{0,\\textrm{compound}}} = \\sum_i \\frac{w_i}{X_{0, i}}\n",
    "$$\n",
    "where $w_i$ are the mass fraction of each component.\n",
    "\n",
    "Notes: the drawing below is _not_ in scale; the thickness of the silicon layer was already given above; the density of silicon and carbon can easily be looked up."
   ]
  },
  {
   "cell_type": "markdown",
   "metadata": {},
   "source": [
    "![Silicon Module Stackup](silicon-module-stackup.png)"
   ]
  },
  {
   "cell_type": "markdown",
   "metadata": {},
   "source": [
    "#### <font color='red'>Solution:</font>"
   ]
  },
  {
   "cell_type": "markdown",
   "metadata": {
    "flags": [
     "solutions"
    ]
   },
   "source": []
  },
  {
   "cell_type": "markdown",
   "metadata": {},
   "source": [
    "### 1f. (20 points)"
   ]
  },
  {
   "cell_type": "markdown",
   "metadata": {
    "flags": [
     "problems",
     "solutions"
    ]
   },
   "source": [
    "We'll now revist the `get_measurements` function we wrote in 1c to also include effects from multiple scattering, in addition to intrinsic resolution.\n",
    "\n",
    "The average scattering angle from multiple scattering can be estimated given the $X_0$ values you calculated above. To take this into account correctly, now you need to calculate the intersection with each layer and adjust the outgoing trajectory when moving (usually referred to as _extrapolating_) from one layer to the next one, as depicted below.\n",
    "\n",
    "At each step, add a multiple scattering contribution which is modelled via a random number that follows a Gaussian distribution with mean 0 and $\\sigma$ equal to the expected multiple scattering contribution.\n",
    "\n",
    "To be able to use these new simulated measurements consistently in a fit, we also need to add to the expected resolution we return in this function the expected effect of multiple scattering from previous layers in quadrature. In other words your final expected uncertainty on the measurement $m$ should be $\\sigma = \\sqrt{\\sigma_m^2 + \\sigma_{MS}^2}$, where $\\sigma_m$ is the intrinsic detector uncertainty you evaluated before and $\\sigma_{MS}$ is the contribution of multiple scattering from _all_ planes before the one being considered (note: the one being considered does not contribute since it will only deviate the trajectory from its path for planes that come afterwards)."
   ]
  },
  {
   "cell_type": "markdown",
   "metadata": {},
   "source": [
    "![det_ms](detector_ms.png)"
   ]
  },
  {
   "cell_type": "markdown",
   "metadata": {},
   "source": [
    "#### <font color='red'>Solution:</font>"
   ]
  },
  {
   "cell_type": "code",
   "execution_count": 3,
   "metadata": {
    "flags": [
     "solutions"
    ]
   },
   "outputs": [],
   "source": [
    "def get_measurements_ms(theta, D=5.0):\n",
    "    \n",
    "    return measurements, uncertainties"
   ]
  },
  {
   "cell_type": "markdown",
   "metadata": {},
   "source": [
    "### 1g.  (20 points)"
   ]
  },
  {
   "cell_type": "markdown",
   "metadata": {
    "flags": [
     "problems",
     "solutions"
    ]
   },
   "source": [
    "Now repeat the plots of step 1d, but using instead the measurements returned by the `get_measurements_ms` function, that include the multiple scattering contribution. Compare the new resolution to the one obtained before (when multiple scattering effects were ignored). Does the pull width come out compatible with 1? if not, can you think of why that would not be the case? \n",
    "\n",
    "The plot of resolution vs $\\theta$ is still optional."
   ]
  },
  {
   "cell_type": "markdown",
   "metadata": {},
   "source": [
    "#### <font color='red'>Solution:</font>"
   ]
  },
  {
   "cell_type": "code",
   "execution_count": null,
   "metadata": {
    "flags": [
     "solutions"
    ]
   },
   "outputs": [],
   "source": []
  },
  {
   "cell_type": "markdown",
   "metadata": {},
   "source": [
    "### 1h.  (20 points)"
   ]
  },
  {
   "cell_type": "markdown",
   "metadata": {
    "flags": [
     "problems",
     "solutions"
    ]
   },
   "source": [
    "As a final excercise, vary the distance D of the first layer (keeping the distance L between layers fixed). Show how the uncertainty on $z_0$ varies as a function of the distance D in the range $1-10$cm."
   ]
  },
  {
   "cell_type": "markdown",
   "metadata": {},
   "source": [
    "#### <font color='red'>Solution:</font>"
   ]
  },
  {
   "cell_type": "code",
   "execution_count": null,
   "metadata": {
    "flags": [
     "solutions"
    ]
   },
   "outputs": [],
   "source": []
  },
  {
   "cell_type": "markdown",
   "metadata": {},
   "source": [
    "### 1i. [OPTIONAL, only for the braves..] (a LOT of points)"
   ]
  },
  {
   "cell_type": "markdown",
   "metadata": {
    "flags": [
     "problems",
     "solutions"
    ]
   },
   "source": [
    "Ok, I said the previous one was the last one... but if you're brave there's one more thing you can do.\n",
    "\n",
    "The fitting method above is not ideal since it does ignore the fact that once we have a measurement on a given layer, this measurement is giving us information on how much multiple scattering has happened so far. \n",
    "\n",
    "To improve on that, instead of fitting your straight line with uncertainties that take into account the $MS$ contribution, you can define a custom $\\chi^2$ (likelihood) function of the form:\n",
    "\n",
    "$$\n",
    "\\chi^2 = \\sum_k \\frac{(r_{k, \\textrm{meas.}} - r_{k, \\textrm{exp}}(\\delta\\theta))^2}{\\sigma_{k, \\textrm{meas.}}}^2 + \\sum_i \\frac{\\delta\\theta_i^2}{\\sigma(\\delta\\theta_i)^2}\n",
    "$$\n",
    "\n",
    "where the sum goes through the measurements in each layer, starting from the layer closer to the particle's origin and \n",
    "- $r_\\textrm{meas}$ is the measured (simulated) position used as input to the fit;\n",
    "- $r_\\textrm{exp}$ is the expected position on each layer given the information of the _measured_ positions in the previous layer(s). I've indicated that as $\\delta\\theta = (\\delta\\theta_1, \\delta\\theta_2, ...)$ in the equation above, meaning $\\delta\\theta_1$ is the MS contribution from the first layer's material to the extrapolation to the second layer, etc.. and the only relevant ones for each $r_k$ determinations are the ones with index $< k$. There's multiple ways to do this in practice, feel free to choose what feels \"right\" in the way you're thinking about this problem; \n",
    "- $\\sigma_\\textrm{meas}$ now only accounts for the intrinsic uncertainty on the measurement poisition (neglecting MS from previous layers);\n",
    "- the MS contributions (only from the previous layers!) are now taken into account with an extra \"penalty\" factor in the likelihood/$\\chi^2$ that penalizes large scattering angle with their expected (Gaussian) pdf.   \n",
    "\n",
    "Such an approach is much more similar to a realistic track-fitting approach used nowadays. It has the advantage that it uses the information of the measurements to constrain (fit) the multiple scattering contributions at the same time.\n",
    "\n",
    "Calculate again the $r_0$ resolution and pull plot with this method and compare to what you've opbtained before. "
   ]
  },
  {
   "cell_type": "markdown",
   "metadata": {},
   "source": [
    "#### <font color='red'>Solution:</font>"
   ]
  },
  {
   "cell_type": "code",
   "execution_count": null,
   "metadata": {},
   "outputs": [],
   "source": []
  }
 ],
 "metadata": {
  "kernelspec": {
   "display_name": "Python 3",
   "language": "python",
   "name": "python3"
  },
  "language_info": {
   "codemirror_mode": {
    "name": "ipython",
    "version": 3
   },
   "file_extension": ".py",
   "mimetype": "text/x-python",
   "name": "python",
   "nbconvert_exporter": "python",
   "pygments_lexer": "ipython3",
   "version": "3.8.10"
  }
 },
 "nbformat": 4,
 "nbformat_minor": 5
}
