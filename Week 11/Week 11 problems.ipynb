{
 "cells": [
  {
   "cell_type": "markdown",
   "metadata": {},
   "source": [
    "# Week 11 problems"
   ]
  },
  {
   "cell_type": "markdown",
   "metadata": {},
   "source": [
    "## Question 1: Dalitz Decays and Resonant Structure"
   ]
  },
  {
   "cell_type": "markdown",
   "metadata": {},
   "source": [
    "### Learning objectives\n",
    "In this question you will:\n",
    "\n",
    "- Gain experience in using the Particle Data Group compilations of decay rates to determine relative branching fractions for different decay modes and to develop insight on decay kinematics. Using the example of $D_s^{+}\\rightarrow K^+K^-\\pi^{+}$\n",
    "- review how Dalitz Plots can  be  used to understand resonant structure in hadron decays.\n"
   ]
  },
  {
   "cell_type": "markdown",
   "metadata": {
    "flags": [
     "problems",
     "solutions"
    ]
   },
   "source": [
    "B-factories are a good place to study the decays of bottom hadrons.  These $e^+e^-$ colliders typically operate at a center-of-mass energy of 10.579 GeV, the mass of the $\\Upsilon (4s)$.  This $b\\overline b $ resonance is just above open bottom threshold and therefore decays (more than 96% of the time) to\n",
    "a $B\\overline B$ (there is not enough additional energy to produce even a single additional pion).\n",
    "\n",
    "Consider the case $\\Upsilon (4s)\\rightarrow B^0\\overline B^0$.  If the $\\overline B^0$ is fully reconstructed, then we know that all the remaining particles must come from the decay of the $B^0$ and if the $B^0$ is fully reconstructed, then we know all the remaining particles must come from the deacy of the $\\overline B^0$. This strategy can therefore be used to measure absolute branching fractions."
   ]
  },
  {
   "cell_type": "markdown",
   "metadata": {},
   "source": [
    "### 1a. "
   ]
  },
  {
   "cell_type": "markdown",
   "metadata": {
    "flags": [
     "problems",
     "solutions"
    ]
   },
   "source": [
    "Consider the production $e^+e^- \\rightarrow  B\\overline B$ followed by the\n",
    "decay chain for the $B^0$ and $\\overline{B^0}$.  Some fraction of the time, the $B^0$ will decay through the following decay chain:\n",
    "\\begin{eqnarray*}\n",
    "B^0 & \\rightarrow & D_s^{*+}\\pi^-\\\\\n",
    "D_s^{*+} & \\rightarrow & D_s^+ \\gamma\\\\\n",
    "D_s^{+}  & \\rightarrow & K^+K^- \\pi^+\n",
    "\\end{eqnarray*}\n",
    "\n",
    "Here the $D_s^{+}$ decay to $K^+K^-\\pi^+$ can occur through several mechanisms, including:\n",
    "\n",
    "\\begin{eqnarray*}\n",
    "D_s^{+} \\rightarrow \\phi \\pi^{+} & \\;\\;{\\rm followed\\; by} & \\; \\phi\\rightarrow K^{+} K^{-}\\\\\n",
    "D_s^{+} \\rightarrow  K^{*0} K^{+} & \\;\\;{\\rm followed\\; by} & K^{*0}\\rightarrow K^{-} \\pi^{+} {\\rm or\\ } K^{*0}\\rightarrow K^{+} \\pi^{-}\\\\ \n",
    "D_s^{+}  \\rightarrow  K^+K^- \\pi^+ & & {\\rm three-body\\; (non-resonant)}\n",
    "\\end{eqnarray*}\n",
    "\n",
    "For each of the particles listed above, use the Particle Data Group (PDG) tables to find their mass and spin. (Note, each of the particles listed above will have an anti-particle with opposite charge and the same mass and spin as the particle.  The $\\overline{B^0}$ can decay through a decay chain where all the particles above are replaced by their anti-particles). Please note that as there are two $B$-mesons in each event, you will need to consider decays of both the $B$ mesons to find all the final state particles."
   ]
  },
  {
   "cell_type": "markdown",
   "metadata": {},
   "source": [
    "Write your answer here"
   ]
  },
  {
   "cell_type": "markdown",
   "metadata": {},
   "source": [
    "### 1b. "
   ]
  },
  {
   "cell_type": "markdown",
   "metadata": {
    "flags": [
     "problems",
     "solutions"
    ]
   },
   "source": [
    "The $D_s^{*+}$ is composed of a charm quark and an anti-strange quark.  There is a similar state consisting of a charm quark and an anti-down quark called the $D^{*+}$.\n",
    "Use the results tabulated by the PDG to compare the branching fractions for  $D_s^{*+}\\rightarrow D_s^+ \\gamma$ and $D^{*+}\\rightarrow D^+ \\gamma$.  From the properties listed in the PDG, can you explain why are these so different?"
   ]
  },
  {
   "cell_type": "markdown",
   "metadata": {},
   "source": [
    "Write your answer here"
   ]
  },
  {
   "cell_type": "markdown",
   "metadata": {},
   "source": [
    "### 1c. "
   ]
  },
  {
   "cell_type": "markdown",
   "metadata": {
    "flags": [
     "problems",
     "solutions"
    ]
   },
   "source": [
    "As noted above,  $D_s\\rightarrow K^+K^-\\pi$ decay can occur through several possible intermediate resonance states.  In principle the decays to these should be combined by adding their decay amplitudes and then squaring the sum, since they can quantum mechanically interfere.  However, the resonant structure is still evident in the decay kinematics and it is possible to observe this resonant structure using a Dalitz plot. The file DsstarPiMC.dat contains a  simulated sample that corrresponds to the decay chain described above.\n",
    "\n",
    "Some of our events contain a decay chain starting with $B^{0} \\rightarrow  D_s^{*+}\\pi^{-}$\n",
    "where the $D_S^{*+}$ decays to a $D_s^+ \\rightarrow K^+ K^- \\pi^+$.  Other events contain a decay chain starting with $\\overline{B^0} \\rightarrow  D_s^{*-}\\pi^+$\n",
    "where the $D_S^{*-}$ decays to a $D_s^{+} \\rightarrow K^{+} K^{-} \\pi^{-}$.  In both these cases, the\n",
    "final state particles are $K^{+}K^{-}\\pi^{+}\\pi^{-}$.  By selecting the $K^{+}K^{-}\\pi^{\\pm}$ combination with\n",
    "invariant mass consistent with the $D_s^{\\pm}$,  determine for each event which $\\pi$ comes from the $D_s^\\pm$ decay.  Using the $\\pi^\\pm$ you have selected, plot the invariant mass of the $K^\\mp \\pi^\\pm$ combination in the region around the $K^{*0}$.  Do you see a peak in roughly the right place?  "
   ]
  },
  {
   "cell_type": "code",
   "execution_count": 1,
   "metadata": {
    "flags": [
     "problems",
     "solutions"
    ]
   },
   "outputs": [],
   "source": [
    "import math\n",
    "import numpy as np\n",
    "import matplotlib.pyplot as plt\n",
    "\n",
    "# Parse the input file.\n",
    "file = \"DsstarPiMC.dat\"\n",
    "\n",
    "# Information needed to interpret the input file structure\n",
    "# The order of variables is explained in the metadata at the top of the file\n",
    "pMc = 0              # Magnitude of (three)-momentum of the particle in the lab frame\n",
    "massMc=1             # mass of the particle\n",
    "thetaMc=2            # polar angle of the particle\n",
    "phiMc=3              # azimuthal angle of the  particle\n",
    "idMc=4               # PDG ID of the particle (See http://www-pdg.lbl.gov/2018/reviews/rpp2018-rev-monte-carlo-numbering.pdf) \n",
    "mothMc=5             # index to the mother of the particle (the row corresponding to the mother, where\n",
    "                     # the numbering of rows for each event starts at zero\n",
    "nDauMc=6             # number of daughters the particle has\n",
    "#\n",
    "# The pdg IDs of the particles we care about\n",
    "pdgIDKplus=0 # update this value\n",
    "pdgIDKminus=0 # update this value\n",
    "pdgIDPiplus=0 # update this value\n",
    "pdgIDPiminus=0 # update this value\n",
    "DsMass = 0 # in GeV # update this value\n",
    "\n",
    "# This loop will process the file\n",
    "inEvent = False\n",
    "events = []\n",
    "for line in open(file,\"r\"):\n",
    "    line = line.strip()\n",
    "    info = line.split(\",\")    \n",
    "    if info[0] ==\"<event>\":\n",
    "        inEvent = True\n",
    "        particles = []\n",
    "    elif inEvent and (info[0] == \"</event>\"):\n",
    "        events.append(particles)\n",
    "        inEvent = False\n",
    "    elif inEvent:\n",
    "        b = [float(info[i]) for i in range(7)]\n",
    "        particles.append(b)\n",
    "numEv = len(events)\n",
    "\n",
    "# update this function\n",
    "def makeFourVector(momentum_magnitude, mass, theta, phi):\n",
    "    \"\"\"Make a four momentum vector object given the particle kinematic info\n",
    "    \n",
    "    Parameters\n",
    "    ==========\n",
    "    momentum_magnitude : float\n",
    "      magnitude of the three momentum\n",
    "      \n",
    "    mass : float\n",
    "      particle mass\n",
    "      \n",
    "    theta : float\n",
    "      polar angle of particle momentum vector\n",
    "      \n",
    "    phi : float\n",
    "      azimuthal angle of particle vector\n",
    "      \n",
    "    Returns\n",
    "    =======\n",
    "    fv : array\n",
    "      a 4-element numpy array where component 0 is the time-like component of\n",
    "      the particle's four momentum and components 1-3 are the three momentum\n",
    "    \"\"\"\n",
    "    \n",
    "    '''Your code here'''\n",
    "    return fv\n",
    "\n",
    "#update this function\n",
    "def invMsq(a):\n",
    "    \"\"\"Compute the square of the invariant mass from a four momentum vector\n",
    "    \n",
    "    Parameters\n",
    "    ==========\n",
    "    a : array\n",
    "      a four-element array representing the four momentum vector of a particle\n",
    "      \n",
    "    Returns\n",
    "    =======\n",
    "    v : float\n",
    "      the squared invariant mass of the particle \n",
    "    \"\"\"\n",
    "    \n",
    "    '''Your code here'''\n",
    "    return v\n",
    "\n",
    "# Arrays to store the invariant mass squared of 2-particle pairs\n",
    "MsqKK = np.zeros(numEv)\n",
    "MsqKpi = np.zeros(numEv)\n",
    "\n",
    "# Arrays to store the mass of 2-particle pairs\n",
    "MassKK = np.zeros(numEv)\n",
    "MassKPi = np.zeros(numEv)\n",
    "\n",
    "# Objects to store the four-momenta of the K+, K-,  pi+ and pi-\n",
    "K1=np.zeros([numEv,4])\n",
    "K2=np.zeros([numEv,4])\n",
    "Pi1=np.zeros([numEv,4])\n",
    "\n",
    "nDplus=0\n",
    "nDminus=0\n",
    "\n",
    "# This is a loop over the simulated events, each of which contains a list\n",
    "# of particles.\n",
    "for i in range(numEv):\n",
    "    '''Your code here'''\n",
    "\n",
    "# Plot the M(K pi) histogram\n",
    "# Your code here"
   ]
  },
  {
   "cell_type": "code",
   "execution_count": null,
   "metadata": {},
   "outputs": [],
   "source": [
    "#Write your answer here"
   ]
  },
  {
   "cell_type": "markdown",
   "metadata": {},
   "source": [
    "### 1d. "
   ]
  },
  {
   "cell_type": "markdown",
   "metadata": {
    "flags": [
     "problems",
     "solutions"
    ]
   },
   "source": [
    "Plot the invariant mass of the the two kaons, $K^+$ and $K^-$ system. You will want to adjust the range of the $x$ axis to focus on the region around the $\\phi$ mass.  Do you see the $\\phi$ and is its mass roughly in the right place? (You will fit for this mass later in the problem)"
   ]
  },
  {
   "cell_type": "code",
   "execution_count": null,
   "metadata": {},
   "outputs": [],
   "source": [
    "#Write your answer here"
   ]
  },
  {
   "cell_type": "markdown",
   "metadata": {},
   "source": [
    "### 1e. "
   ]
  },
  {
   "cell_type": "markdown",
   "metadata": {
    "flags": [
     "problems",
     "solutions"
    ]
   },
   "source": [
    "Make the Dalitz plot for variables $m_{KK}^2$ and $m_{\\pi K}^2$ (combining the kaon and the pion of the opposite charge)."
   ]
  },
  {
   "cell_type": "code",
   "execution_count": null,
   "metadata": {},
   "outputs": [],
   "source": [
    "#Write your answer here"
   ]
  },
  {
   "cell_type": "markdown",
   "metadata": {},
   "source": [
    "### 1f. "
   ]
  },
  {
   "cell_type": "markdown",
   "metadata": {
    "flags": [
     "problems",
     "solutions"
    ]
   },
   "source": [
    "Explain the structure you see in the Dalitz plot you have created."
   ]
  },
  {
   "cell_type": "markdown",
   "metadata": {},
   "source": [
    "Write your answer here"
   ]
  },
  {
   "cell_type": "markdown",
   "metadata": {},
   "source": [
    "### 1g. "
   ]
  },
  {
   "cell_type": "markdown",
   "metadata": {
    "flags": [
     "problems",
     "solutions"
    ]
   },
   "source": [
    "Using these data, compute the branching fractions for decays\n",
    "\\begin{eqnarray*}\n",
    "D_s^+ &\\rightarrow &  \\phi \\pi^+\\\\\n",
    "D_s^+ & \\rightarrow &  \\overline K^{*0}  K^+\n",
    "\\end{eqnarray*}\n",
    "as well as the nonresonant\n",
    "$$                                                                                            \n",
    "D_s^+ \\rightarrow K^+ K^- \\pi^+                                                                \n",
    "$$\n",
    "and compare them to the values given in the PDG.\n",
    "\n",
    "Note: The shape of a resonance decay is a Breit-Wigner.  The non-resonant background shape is non-trivial to predict, but if you only look in the region close to the resonant mass, approximating the background using a linear function does a reasonable job. "
   ]
  },
  {
   "cell_type": "code",
   "execution_count": null,
   "metadata": {},
   "outputs": [],
   "source": [
    "#Write your answer here"
   ]
  },
  {
   "cell_type": "markdown",
   "metadata": {},
   "source": [
    "---"
   ]
  },
  {
   "cell_type": "markdown",
   "metadata": {},
   "source": [
    "## Question 2: Angular Distributions in e+e- --> mu+mu-"
   ]
  },
  {
   "cell_type": "markdown",
   "metadata": {},
   "source": [
    "### Learning objectives\n",
    "In this question you will:\n",
    "\n",
    "- Study the angular distribution of muons produced in e+e- annihilation\n",
    "- Demonstrate using data collected by the Babar experiment that the two muons are produced back-to-back in both theta and phi\n",
    "- Assess quantitatively the accuracy of the calculation of the angular distribution by performing a chisquare calculation\n"
   ]
  },
  {
   "cell_type": "markdown",
   "metadata": {},
   "source": [
    "### 2a. "
   ]
  },
  {
   "cell_type": "markdown",
   "metadata": {
    "flags": [
     "problems",
     "solutions"
    ]
   },
   "source": [
    "Consider the process \n",
    "$$\n",
    "e^+ e^- \\rightarrow \\mu^+ \\mu^-\n",
    "$$\n",
    "In QED, this occurs through the s-channel production of a virtual photon.  If the energy is high enough so that the electron and muon masses are negligible, the matrix element squared can be written as:\n",
    "$$\n",
    "|{\\cal M}| = 2 e^4 \\left ( \\frac{t^2+u^2}{s^2} \\right )\n",
    "$$\n",
    "where $e$ is the electron charge and $s$, $t$ and $u$ are the Mandelstam variables.\n",
    "\n",
    "Find the differential cross section $d\\sigma/d\\Omega$ in the center-of-mass frame (where $\\Omega$ is $d^2/d\\cos\\theta d\\phi$ for the outgoing $\\mu^-$). Express it in terms of the fine structure constant $\\alpha$, the Mandelstam variables and $\\theta$, where $\\theta $ is the angle between the incoming $e^-$ and the outgoing $\\mu^-$."
   ]
  },
  {
   "cell_type": "markdown",
   "metadata": {},
   "source": [
    "Write your answer here"
   ]
  },
  {
   "cell_type": "markdown",
   "metadata": {},
   "source": [
    "### 2b. "
   ]
  },
  {
   "cell_type": "markdown",
   "metadata": {
    "flags": [
     "problems",
     "solutions"
    ]
   },
   "source": [
    "The file mumu.dat contains data corresponding to an integrated luminosity of 74.674 pb$^{-1}$ collected by the BaBar experiment at the SLAC B-factory.  The file contains events from the process $e^+e^-\\rightarrow \\mu^+\\mu^-(\\gamma)$.  (where ($\\gamma$) means that the event selection may allow a low-energy photon). The photon emission can be treated as a small radiative correction, which does not modify the gross properties of the $e^+e^-\\rightarrow \\mu^+mu^-$ process.  The data were collected at a center-of-mass energy of10.539 GeV. Note, that this is below the B B̄ production threshold.\n",
    "\n",
    "The following code reads this data file and puts the data into a form that can be easily used in python:"
   ]
  },
  {
   "cell_type": "code",
   "execution_count": 3,
   "metadata": {
    "flags": [
     "problems",
     "solutions"
    ]
   },
   "outputs": [],
   "source": [
    "import math\n",
    "import numpy as np\n",
    "import matplotlib.pyplot as plt\n",
    "from scipy.optimize import curve_fit\n",
    "\n",
    "# Parse the input file.\n",
    "file = \"mumu.dat\"\n",
    "\n",
    "# Inforamtion to offset needed to nterpret the info\n",
    "# The order of variables is explained in the metadata at the top of the file\n",
    "#\n",
    "#  isBCMuMu -- a boolean bit which provides a tighter (but cleaner) selection of di-muons.  You should require this bit to be 1\n",
    "#  p1Mag -- Magnitude of the momentum of the highest-momentum track (in GeV)\n",
    "#  p1CosTheta -- Cosine of thepolar angle of the highest-momentum track  \n",
    "#  p1Phi -- Azimuthal angle of the highest-momentum track\n",
    "#  p1EmcCandEnergy -- Electromagnetic Calorimeter energy associated with the highest-momentum track. For muons, this is expected to be non-zero, but small (<1 GeV)\n",
    "#  p2Mag -- Magnitude of the momentum of the second highest-momentum track (in GeV)\n",
    "#  p2CosTheta -- Cosine of thepolar angle of the second highest-momentum track\n",
    "#  p2Phi -- Azimuthal angle of the second highest-momentum track\n",
    "#  p2EmcCandEnergy -- Electromagnetic Calorimeter energy associated with the second highest-momentum track. For muons, this is expected to be non-zero, but small (<1 GeV)\n",
    "#\n",
    "inMeta = False\n",
    "isBCMuMu = []\n",
    "p1Mag = []\n",
    "p1CosTheta = []\n",
    "p1Phi = []\n",
    "p1EmcCandEnergy = []\n",
    "p2Mag = []\n",
    "p2CosTheta = []\n",
    "p2Phi = []\n",
    "p2EmcCandEnergy = []\n",
    "\n",
    "inMeta = True\n",
    "for line in open(file,\"r\"):\n",
    "    line = line.strip()\n",
    "    info = line.split(\",\")    \n",
    "    if inMeta and (\"<metadata>\" in info[0]):\n",
    "        inMeta = True\n",
    "    elif inMeta and (\"</metadata>\" in info[0]):\n",
    "        inMeta = False\n",
    "    elif not inMeta:\n",
    "        isBCMuMu.append(int(info[0]))\n",
    "        p1Mag.append(float(info[1]))\n",
    "        p1CosTheta.append(float(info[2]))\n",
    "        p1Phi.append(float(info[3]))\n",
    "        p1EmcCandEnergy.append(float(info[4]))\n",
    "        p2Mag.append(float(info[5]))\n",
    "        p2CosTheta.append(float(info[6]))\n",
    "        p2Phi.append(float(info[7]))\n",
    "        p2EmcCandEnergy.append(float(info[8]))\n"
   ]
  },
  {
   "cell_type": "markdown",
   "metadata": {
    "flags": [
     "problems",
     "solutions"
    ]
   },
   "source": [
    "First, let's verify our statement that presence of the photon does not grossly effect the kinematics of these events.  Make a scatter plot comparing the values of $\\cos(\\theta)$ for the two muon candidates in each event.  Make a second scatter plot comparing the values of $\\phi$.  Explain in words what these plots tell you.  Make sure you require that the isBCMuMu bit is set to 1.  In addition, to insure that both muons are in a part of the detector where they are well-measured, require $|\\cos\\theta|< 0.7485$ for each muon."
   ]
  },
  {
   "cell_type": "code",
   "execution_count": null,
   "metadata": {},
   "outputs": [],
   "source": [
    "#Write your answer here"
   ]
  },
  {
   "cell_type": "markdown",
   "metadata": {},
   "source": [
    "### 2c. "
   ]
  },
  {
   "cell_type": "markdown",
   "metadata": {
    "flags": [
     "problems",
     "solutions"
    ]
   },
   "source": [
    "Because the electromagnetic interaction conserves parity, the angular distribution cannot contain any terms that are odd under parity inversion.  Weak interactions, however, do not conserve parity.  Since the $Z$ boson has the same quantum numbers as the photon, diagrams involving the $Z$ and the photon both contribute to the $e^+e^-\\rightarrow \\mu^+\\mu^-$ cross section.  The interference between these two diagrams introduces a term that violates parity.  Plot the angular distribution for the $\\mu^+$ and for the $\\mu^-$.  Is there evidence of parity violation in these plots?"
   ]
  },
  {
   "cell_type": "code",
   "execution_count": null,
   "metadata": {},
   "outputs": [],
   "source": [
    "#Write your answer here"
   ]
  },
  {
   "cell_type": "markdown",
   "metadata": {},
   "source": [
    "### 2d. "
   ]
  },
  {
   "cell_type": "markdown",
   "metadata": {
    "flags": [
     "problems",
     "solutions"
    ]
   },
   "source": [
    "Physicists often characterize such parity violating effects in terms of a \"forward-backward asymmetry\":\n",
    "\n",
    "$$\n",
    "A_{FB} = \\left( \\frac{N^{\\mu-}_{\\cos\\theta >0} - N^{\\mu-}_{\\cos\\theta<0}}{N^{\\mu-}_{\\cos\\theta >0} + N^{\\mu-}_{\\cos\\theta<0}} \\right )\n",
    "$$\n",
    "\n",
    "calculate $A_{FB}$ and its uncertainty for the BaBar data (note:  Because the data falls into one of two possible categories, the uncertainty follows a binomial distribution)"
   ]
  },
  {
   "cell_type": "markdown",
   "metadata": {
    "flags": [
     "problems",
     "solutions"
    ]
   },
   "source": [
    "Fit the $\\mu^- \\; \\cos\\theta $ distribution to the form\n",
    "$$\n",
    "N = N_0 \\left (1+A\\cos\\theta+B\\cos^2\\theta \\right )\n",
    "$$\n",
    "(make sure you only for for the range $|\\cos\\theta|<0.7485$.\n",
    "\n",
    "Do your fitted values provide a value of $A_{FB}$ that is consistent with what calculated above?"
   ]
  },
  {
   "cell_type": "code",
   "execution_count": null,
   "metadata": {},
   "outputs": [],
   "source": [
    "#Write your answer here"
   ]
  },
  {
   "cell_type": "markdown",
   "metadata": {},
   "source": [
    "### 2e. "
   ]
  },
  {
   "cell_type": "markdown",
   "metadata": {
    "flags": [
     "problems",
     "solutions"
    ]
   },
   "source": [
    "We can remove this parity violating term by taking the average of the angular distributions for the $\\mu^+$ and the $\\mu^-$:\n",
    "$$\n",
    "\\frac{d<N>}{d\\cos \\theta} = 0.5 \\left ( \\frac{dN^{\\mu+}}{d\\cos\\theta} + \\frac{dN^{\\mu-}}{\\cos\\theta} \\right )\n",
    "$$\n",
    "where $N^\\pm$ are the number of $\\mu^+$ and $\\mu^-$ respectively.  Make a histogram of this distribution and fit the angular distribution to the form \n",
    "$$\n",
    "N = N_0 \\left  ( 1+B \\cos^2 \\theta\\right )\n",
    "$$\n",
    "Is the fitted coefficient $B$ consistent with your expectation (from theory)? "
   ]
  },
  {
   "cell_type": "markdown",
   "metadata": {
    "flags": [
     "problems",
     "solutions"
    ]
   },
   "source": [
    "Calculate the $\\chi^2$ between your histogram and your expectation.  Turn the resulting $\\chi^2$ into a fit probability."
   ]
  },
  {
   "cell_type": "code",
   "execution_count": null,
   "metadata": {},
   "outputs": [],
   "source": [
    "#Write your answer here"
   ]
  }
 ],
 "metadata": {
  "kernelspec": {
   "display_name": "Python 3",
   "language": "python",
   "name": "python3"
  },
  "language_info": {
   "codemirror_mode": {
    "name": "ipython",
    "version": 3
   },
   "file_extension": ".py",
   "mimetype": "text/x-python",
   "name": "python",
   "nbconvert_exporter": "python",
   "pygments_lexer": "ipython3",
   "version": "3.8.10"
  }
 },
 "nbformat": 4,
 "nbformat_minor": 5
}
