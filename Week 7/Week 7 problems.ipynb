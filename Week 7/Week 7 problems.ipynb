{
 "cells": [
  {
   "cell_type": "markdown",
   "metadata": {},
   "source": [
    "# Week 7 solutions"
   ]
  },
  {
   "cell_type": "markdown",
   "metadata": {},
   "source": [
    "## Question 1: Can you identify the misterious particle?"
   ]
  },
  {
   "cell_type": "markdown",
   "metadata": {},
   "source": [
    "### Learning objectives\n",
    "In this question you will:\n",
    "\n",
    "- familiarize with quantum number \"balancing\" in strong reactions\n",
    "\n"
   ]
  },
  {
   "cell_type": "markdown",
   "metadata": {},
   "source": [
    "The following picture shows an event recorded in a bubble chamber.\n",
    "An incoming negative Kaon hits a proton (in the bubble chamber gas) and creates three charged pions (we know their sign from the direction of their curvature) and an additional short-lived particle we'll call \"X\". Let's also assume we know the reaction producing X is a strong reaction (e.g. observing that it is produced abundantly)."
   ]
  },
  {
   "cell_type": "markdown",
   "metadata": {},
   "source": [
    "$$\n",
    "K^- p \\to X \\pi^+ \\pi^- \\pi^+\n",
    "$$"
   ]
  },
  {
   "cell_type": "markdown",
   "metadata": {},
   "source": [
    "![bubble chamber](BubbleChamber-MisteriousInteraction.png)"
   ]
  },
  {
   "cell_type": "markdown",
   "metadata": {},
   "source": [
    "### 1a. (20 points)"
   ]
  },
  {
   "cell_type": "markdown",
   "metadata": {
    "flags": [
     "problems",
     "solutions"
    ]
   },
   "source": [
    "Knowing this is a strong reaction, find the isospin, strangeness, parity and spin of particle X. You can assume that the $K^-p$ interaction occurs from an s-wave (orbital angular momentum L=0)."
   ]
  },
  {
   "cell_type": "markdown",
   "metadata": {},
   "source": [
    "#### <font color='red'>Solution:</font>"
   ]
  },
  {
   "cell_type": "markdown",
   "metadata": {
    "flags": [
     "solutions"
    ]
   },
   "source": []
  },
  {
   "cell_type": "markdown",
   "metadata": {},
   "source": [
    "### 1b. (30 points)"
   ]
  },
  {
   "cell_type": "markdown",
   "metadata": {
    "flags": [
     "problems",
     "solutions"
    ]
   },
   "source": [
    "We collect many of these events and, given that the Kaon is a charged particle we can measure, we can start looking at the cross section of this interaction as a function of the incoming $K^-$ momentum. We notice that this specific interaction only happens if the momentum of the incoming charged kaon is larger than $\\approx 620$ MeV.\n",
    "Determine the mass of $X$ and, together with the information you gathered before, identify what particle is $X$ (look at the list of particle at https://pdg.lbl.gov and match by strangeness, parity, isospin, spin..)"
   ]
  },
  {
   "cell_type": "markdown",
   "metadata": {},
   "source": [
    "#### <font color='red'>Solution:</font>"
   ]
  },
  {
   "cell_type": "markdown",
   "metadata": {
    "flags": [
     "solutions"
    ]
   },
   "source": []
  },
  {
   "cell_type": "markdown",
   "metadata": {},
   "source": [
    "### 1c. (10 points)"
   ]
  },
  {
   "cell_type": "markdown",
   "metadata": {},
   "source": [
    "Now that you found what particle this is. Can you identify what is the most likely decay of $X$ that was recorded in the bubble chamber picture above? Is this decay mediated by the strong, weak or electromagnetic force? Why?"
   ]
  },
  {
   "cell_type": "markdown",
   "metadata": {},
   "source": [
    "#### <font color='red'>Solution:</font>"
   ]
  },
  {
   "cell_type": "markdown",
   "metadata": {},
   "source": []
  },
  {
   "cell_type": "markdown",
   "metadata": {},
   "source": [
    "### 1d. (0 points, just for fun...)"
   ]
  },
  {
   "cell_type": "markdown",
   "metadata": {},
   "source": [
    "Treasure hunt: If you sometimes are at LBL in building 50... You can actually find this picture on the walls, with a caption stating the particular reaction observed. "
   ]
  },
  {
   "cell_type": "markdown",
   "metadata": {},
   "source": [
    "#### <font color='red'>Solution:</font>"
   ]
  },
  {
   "cell_type": "markdown",
   "metadata": {},
   "source": [
    "## Question 2:  "
   ]
  },
  {
   "cell_type": "markdown",
   "metadata": {},
   "source": [
    "### Learning objectives\n",
    "In this question you will:\n",
    "\n",
    "- learn to simulate particle production/decays with realistic phase space distribution\n"
   ]
  },
  {
   "cell_type": "markdown",
   "metadata": {},
   "source": [
    "Consider the same reaction of the previous question. In the previous question you determined the mass of the particle based on the (minimum) momentum of the incoming particle needed for the specific interaction to happen. We now assume this is not possible, e.g. because we do not have the ability to easily change the incoming-particle momentum. \n",
    "\n",
    "In this case, a measurement of the final state particles (the set of final \"stable\" particle produced in the $K^- p$ interaction) can be used to estimate the mass of the misterious decaying particle instead. However, since not all final state particles are visible, this can't be done using a single observation of the interaction (otherwise a simple invariant mass of its decay products would give us the answer). Instead, the measured momentum of the (only) visible decay product of the misterious particle can be used to statistically determine its mass. To achieve this, we need to know the expected distribution for the momentum of such a particle.\n",
    "\n",
    "As a reminder, the bubble chamber above is immersed in a magnetic field, which causes particles to bend and allow us to estimate their momentum (or, more correctly, its projection onto the plane of the picture).\n",
    "\n",
    "While the distribution we need can be analytically calculated, we'll use this simple example to see how we can create a quick simulation of the production and decay process and use the output of this simulation to show the relationship between the particle $X$ mass and the expected distribution of the momentum of the visible charged particle our misterious particle decays into. \n",
    "\n",
    "We will assume our experiment is setup such that the incoming $K^-$ has always a momentum of 1 GeV, and a direction that is parallel to the plane of the pictures we can take with our bubble chamber."
   ]
  },
  {
   "cell_type": "markdown",
   "metadata": {},
   "source": [
    "### 2a. (30 points)"
   ]
  },
  {
   "cell_type": "markdown",
   "metadata": {},
   "source": [
    "Let's start creating a function that generates a random combination of the 4-momenta of the visible final state particles (i.e. the 4 charged particles). To do this you need to know the phase space and matrix-element term for the specific interactions. Since we are not interested in the absolute rate but only on the relative distribution of the final state particles, this can be heavily simplified and the phase-space term of the differential cross-section includes almost all the information we need. \n",
    "\n",
    "The ROOT class `TGenPhaseSpace` ( (class reference here)[https://root.cern.ch/doc/master/classTGenPhaseSpace.html] ) allows us to easily generate N-body decays. See also (here)[https://root.cern/doc/v608/PhaseSpace_8C_source.html] for an example of its usage (in C++, but it is simple enough to easily translate that into python). Note that use of the `TLorentzVector` class ( (class reference)[https://root.cern/doc/v608/classTLorentzVector.html] ) to store and easily manipulate 4-vectors.\n",
    "\n",
    "It needs to make some assumption on the matrix element though. Two options are available. By default it assumes a \"constant\" matrix element. This assumption is ok for strong and electromagnetic interactions. It also offers a \"fermi\" option (see the `SetDecay` method of the class) that allows to roughly model the momentum-dependence of the matrix element for weak interactions. Also note that the class will return a `weight` that needs to be used when filling histograms (see the example).\n",
    "\n",
    "We will divide this simulation in two steps. First the $K^-p\\to X \\pi^+\\pi^-\\pi^+$ is simulated and then, given the randomly simulated momentum of the particle X, the decay of $X$ is simulated as well. At that point we can collect the 4-momenta of the final state particles and return them. We will finally return just the 4-momentum of the charged particle the $X$ particle decays to.\n",
    "\n",
    "Make a plot of the distribution of the of the magnitude of the momentum in the plane of our bubble chamber of the charged particle the $X$ particle decays into."
   ]
  },
  {
   "cell_type": "markdown",
   "metadata": {},
   "source": [
    "#### <font color='red'>Solution:</font>"
   ]
  },
  {
   "cell_type": "code",
   "execution_count": 8,
   "metadata": {},
   "outputs": [],
   "source": [
    "import ROOT \n",
    "import ROOT.TMath as rm\n",
    "\n",
    "p_kaon = 1000. # MeV initial momentum of kaon\n",
    "\n",
    "m_kaon = 494. #MeV - K+- mass\n",
    "m_proton = 938. #MeV - p mass\n",
    "\n",
    "#returns the 4-momentum of the final charged decay product of particle X\n",
    "# m_X = mass of particle X\n",
    "def simulateDecay(m_X, randomSeed=-1):\n",
    "    p4_chargedparticle = ROOT.TLorentzVector()\n",
    "    weight = 1.0\n",
    "    \n",
    "    #we will allow the random seed to be either set at every call (for testing) or to be set outside this function\n",
    "    if (randomSeed >= 0):\n",
    "        ROOT.gRandom.SetSeed(randomSeed)\n",
    "       \n",
    "    #create the initial kaon and proton 4-momenta; align axis \"x\" with its momentum and\n",
    "    # our bubble chamber takes pictures in the x-y plane and has a magnetic field perpendicular to it\n",
    "    p4_kaon = ROOT.TLorentzVector(p_kaon, 0, 0, rm.Sqrt(p_kaon**2 + m_kaon**2))\n",
    "    p4_proton = ROOT.TLorentzVector(0, 0, 0, m_proton)\n",
    "    \n",
    "    #create the first TGenPhaseSpace class and set:\n",
    "    #- the initial state (K, p)\n",
    "    #- the final state masses\n",
    "    \n",
    "    #.... your code here\n",
    "    \n",
    "    #now get themomentum of the X particle, and create a new TGenPhaseSpace class for the X decay\n",
    "    #.... your code here\n",
    "    \n",
    "    #finally retrieve the momentum of the charged particle the X particle\n",
    "    # decays to and return it, together with the event weight\n",
    "    return p4_chargedparticle, weight"
   ]
  },
  {
   "cell_type": "code",
   "execution_count": 9,
   "metadata": {},
   "outputs": [],
   "source": [
    "#now we run the simulation\n",
    "NInteractions = 1000\n",
    "\n",
    "mass_X = 0 #change to the number you found in the previous question\n",
    "\n",
    "#set the seed\n",
    "ROOT.gRandom.SetSeed(123)\n",
    "\n",
    "for i in range(NInteractions):\n",
    "    # get the 4-momentum of the charged particle\n",
    "    p4_pi, weight = simulateDecay(mass_X)\n",
    "    \n",
    "    #fill the histogram (or fill an array and make the histogram outside of the loop)\n",
    "    # Important: the bubble chamber will only measure the component of the momentum in the x-y plane\n",
    "    # your code here.."
   ]
  },
  {
   "cell_type": "markdown",
   "metadata": {},
   "source": [
    "### 2b. (10 points)"
   ]
  },
  {
   "cell_type": "markdown",
   "metadata": {},
   "source": [
    "Using the simulation developed above, compare the momentum distribution that you found with the one expected if the mass of the particle X were higher by 100 MeV or lower by 100 MeV."
   ]
  },
  {
   "cell_type": "markdown",
   "metadata": {},
   "source": [
    "#### <font color='red'>Solution:</font>"
   ]
  }
 ],
 "metadata": {
  "kernelspec": {
   "display_name": "Python 3",
   "language": "python",
   "name": "python3"
  },
  "language_info": {
   "codemirror_mode": {
    "name": "ipython",
    "version": 3
   },
   "file_extension": ".py",
   "mimetype": "text/x-python",
   "name": "python",
   "nbconvert_exporter": "python",
   "pygments_lexer": "ipython3",
   "version": "3.8.10"
  }
 },
 "nbformat": 4,
 "nbformat_minor": 5
}
