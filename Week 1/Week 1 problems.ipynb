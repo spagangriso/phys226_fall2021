{
 "cells": [
  {
   "cell_type": "markdown",
   "metadata": {},
   "source": [
    "# Week 1 problems"
   ]
  },
  {
   "cell_type": "markdown",
   "metadata": {},
   "source": [
    "## Question 1: NaturalUnits Conversion"
   ]
  },
  {
   "cell_type": "markdown",
   "metadata": {},
   "source": [
    "### Learning objectives\n",
    "In this question you will:\n",
    "\n",
    "- refresh how to convert between SI units to natural units and back (see also Thomson Ch. 2.1)\n"
   ]
  },
  {
   "cell_type": "markdown",
   "metadata": {},
   "source": [
    "### 1a. Complete the table\n",
    "Write, for each row, the corresponding value in natural units (using a multiple of $eV$ when appropriate and setting $c$ = $\\hbar$ = $\\epsilon_0$ = 1) and the corresponding powers of $c$, $\\hbar$, $\\epsilon_0$ needed (see first row as an example). You can approximate to two significant digits. Copy the table to the new cell below and complete it."
   ]
  },
  {
   "cell_type": "markdown",
   "metadata": {
    "flags": [
     "problems",
     "solutions"
    ]
   },
   "source": [
    "| Value in SI Units | Value in natural units | $c$, $\\hbar$, $\\epsilon_0$ powers | Description |\n",
    "| :---------------: | :--------------------: | :------------ | :------------------- |\n",
    "| $1.66 \\cdot 10^{-27}$ Kg | 0.94 $GeV$ | $c^{-2}$ | Mass of proton |\n",
    "| $9.11 \\cdot 10^{-34}$ Kg|  |  | Mass of electron |\n",
    "| $3.47 \\cdot 10^{-15}$ Kg m s$^{-1}$ |  |  | Typical momentum of LHC protons |\n",
    "| $0.86 \\cdot 10^{-15}$ m | |  | Approx. proton radius (see also https://www.nature.com/articles/d41586-019-03364-z) |\n",
    "| $9192631770$ s$^{-1}$ |   |  | natural resonance frequency of the cesium atom |\n",
    "| $1.60 \\cdot 10^{-19}$ C |  |  |  Electron charge |"
   ]
  },
  {
   "cell_type": "markdown",
   "metadata": {},
   "source": [
    "Write your answer here"
   ]
  }
 ],
 "metadata": {
  "kernelspec": {
   "display_name": "Python 3",
   "language": "python",
   "name": "python3"
  },
  "language_info": {
   "codemirror_mode": {
    "name": "ipython",
    "version": 3
   },
   "file_extension": ".py",
   "mimetype": "text/x-python",
   "name": "python",
   "nbconvert_exporter": "python",
   "pygments_lexer": "ipython3",
   "version": "3.8.10"
  }
 },
 "nbformat": 4,
 "nbformat_minor": 2
}
