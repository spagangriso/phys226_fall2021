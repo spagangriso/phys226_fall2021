{
 "cells": [
  {
   "cell_type": "markdown",
   "metadata": {},
   "source": [
    "## Question 1: Determining the Number of Light Neutrino Species from the Z Width"
   ]
  },
  {
   "cell_type": "markdown",
   "metadata": {},
   "source": [
    "### Learning objectives\n",
    "In this question you will:\n",
    "\n",
    "- Review the properties of Breit-Wigner resonances; Understand how the total width of a Breit-Wigner can be used to count the number of invisible states; Apply this concepts to the Z-lineshape data from LEP\n"
   ]
  },
  {
   "cell_type": "markdown",
   "metadata": {
    "flags": [
     "problems",
     "solutions"
    ]
   },
   "source": [
    "Experiments at the LEP e^+e^- collider at CERN made precision measurements of the properties of the $Z$ boson.  Some of the earliest such measurements were determination of the $Z$ mass and width and using this data to constrain the number of light neutrino species that can couple to the $Z$.  This problem uses data compiled by the Particle Data Group to reproduce these measurements.  A detailed discussion of the processs $e^+e^-\\rightarrow Z\\rightarrow anything$ can be found in Chapter 16 of Thompson.  The concepts used in this problem are presented in Section 16.2 "
   ]
  },
  {
   "cell_type": "markdown",
   "metadata": {
    "flags": [
     "problems",
     "solutions"
    ]
   },
   "source": [
    "The $Z$ mass and width were measured at LEP by measuring the cross section as a function of center-of-mass energy for the processes $e^+e^-\\rightarrow \\mathrm{hadrons}$ and fitting the results to a Breit-Wigner function, which describes the observed shape of particles with parameters describing the mass and the width. Here hadrons indicates the sum of all the different decays of the $Z$ boson to different types of hadrons. \n",
    "\n",
    "We could solve the problem by fitting the cross-section directly. However, it turns out that it is easier instead to use a ratio of cross-sections. The precise variable that we'll use is called $R$, which is defined as the ratio of the measured rate for $e^+e^- \\rightarrow $hadrons to the predicted cross section for $e^+e^-\\rightarrow \\mu^+\\mu^-$. It turns out that taking this ratio makes is easier to see some of the important physical effects of the $Z$ resonance.\n",
    "\n",
    "The code below fills arrays with the measured value of $R$ as a function of center-of-mass energy (Ecm) and the uncertainties on the measurement of R (err)."
   ]
  },
  {
   "cell_type": "code",
   "execution_count": 1,
   "metadata": {
    "flags": [
     "problems",
     "solutions"
    ]
   },
   "outputs": [],
   "source": [
    "# You don't have to edit this cell, just run it\n",
    "\n",
    "file = \"zBosonEcmScan.csv\"\n",
    "Ecm = []\n",
    "R = []\n",
    "cross = []\n",
    "err = []\n",
    "alpha=1.0/129.0\n",
    "for line in open(file,\"r\"):\n",
    "    line = line.strip()\n",
    "    info = line.split(\",\")\n",
    "    Ecm.append(float(info[0]))\n",
    "    R.append(float(info[1]))\n",
    "    err.append(float(info[2]))"
   ]
  },
  {
   "cell_type": "markdown",
   "metadata": {},
   "source": [
    "### 1a. "
   ]
  },
  {
   "cell_type": "markdown",
   "metadata": {
    "flags": [
     "problems",
     "solutions"
    ]
   },
   "source": [
    "Fit the data above to a relativistic Breit-Wigner function (see for example [wikipedia](https://en.wikipedia.org/wiki/Relativistic_Breit%E2%80%93Wigner_distribution )). You will need to define the Breit-Wigner function yourself. "
   ]
  },
  {
   "cell_type": "code",
   "execution_count": null,
   "metadata": {
    "flags": [
     "problems",
     "solutions"
    ]
   },
   "outputs": [],
   "source": [
    "import math\n",
    "import numpy as np\n",
    "import matplotlib.pyplot as plt\n",
    "from scipy.optimize import curve_fit\n",
    "\n",
    "\n",
    "def relBW(x,N,Mass,Gamma):\n",
    "    \"\"\"Defines the relativistic Breit-Wigner function (see link in text above), with additional\n",
    "    factor N to scale output. Make sure you use self-consistent units.\n",
    "    \n",
    "    Parameters\n",
    "    ==========\n",
    "    x : float\n",
    "      input energy\n",
    "      \n",
    "    N : float\n",
    "      factor to scale function output\n",
    "      \n",
    "    Mass : float\n",
    "      mass of the particle whose resonance is being considered\n",
    "      \n",
    "    Gamma : float\n",
    "      decay width of the resonance\n",
    "      \n",
    "    Returns\n",
    "    =======\n",
    "    dist_value : float\n",
    "      value of the Breit-Wigner function at the given energy for the input parameters\n",
    "    \"\"\"\n",
    "\n",
    "    '''Your code here'''\n",
    "\n",
    "    return dist_value\n"
   ]
  },
  {
   "cell_type": "code",
   "execution_count": null,
   "metadata": {},
   "outputs": [],
   "source": [
    "#Write your answer here"
   ]
  },
  {
   "cell_type": "markdown",
   "metadata": {},
   "source": [
    "### 1b. "
   ]
  },
  {
   "cell_type": "markdown",
   "metadata": {
    "flags": [
     "problems",
     "solutions"
    ]
   },
   "source": [
    "How do your fit results for the $Z$ mass and width compare to the PDG values?"
   ]
  },
  {
   "cell_type": "markdown",
   "metadata": {},
   "source": [
    "Write your answer here"
   ]
  },
  {
   "cell_type": "markdown",
   "metadata": {},
   "source": [
    "### 1c. "
   ]
  },
  {
   "cell_type": "markdown",
   "metadata": {
    "flags": [
     "problems",
     "solutions"
    ]
   },
   "source": [
    "The $Z$ can couple all species of fermions: charged leptons ($e$, $\\mu$ and $\\tau$, quarks ($u$, $d$, $s$, $c$ and $b$) and neutrinos.   The partial width to each type of fermion is:\n",
    "$$\n",
    "\\Gamma(Z\\rightarrow f\\overline f) = \\frac{g^2}{48\\pi\\cos^2\\theta_W} \\left ( c_V ^2 + C_A^2 \\right )_f M_Z\n",
    "$$\n",
    "Where $\\sin^2\\theta_W = 0.2314\\pm 0.00012$ and $c_V$ and $c_A$ have different values for up and down type quarks and for leptons.\n",
    "\n",
    "Using the fact that the total width of the $Z$ is equal to the sum of the partial widths to all final states: $\\Gamma = 3\\Gamma_\\ell + \\Gamma_{hadrons} + N_\\nu \\Gamma_\\nu $, use your measurement above to determine the number of neutrino species, assuming that all particles couplings are consistent with the Standard Model.  Note, when calculating $\\Gamma_{hadrons}$ you need to include a factor of 3 in the width since quarks can come in 3 colors.    "
   ]
  },
  {
   "cell_type": "code",
   "execution_count": null,
   "metadata": {},
   "outputs": [],
   "source": [
    "#Write your answer here"
   ]
  },
  {
   "cell_type": "markdown",
   "metadata": {},
   "source": [
    "### 1d. "
   ]
  },
  {
   "cell_type": "markdown",
   "metadata": {
    "flags": [
     "problems",
     "solutions"
    ]
   },
   "source": [
    "Discuss if there could (or could not) be additional heavier neutrino species in the Standard Model."
   ]
  },
  {
   "cell_type": "markdown",
   "metadata": {},
   "source": [
    "Write your answer here"
   ]
  }
 ],
 "metadata": {
  "kernelspec": {
   "display_name": "Python 3",
   "language": "python",
   "name": "python3"
  },
  "language_info": {
   "codemirror_mode": {
    "name": "ipython",
    "version": 3
   },
   "file_extension": ".py",
   "mimetype": "text/x-python",
   "name": "python",
   "nbconvert_exporter": "python",
   "pygments_lexer": "ipython3",
   "version": "3.8.10"
  }
 },
 "nbformat": 4,
 "nbformat_minor": 5
}
